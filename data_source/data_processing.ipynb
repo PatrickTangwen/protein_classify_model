{
 "cells": [
  {
   "cell_type": "markdown",
   "metadata": {},
   "source": [
    "### convert tsv file to csv file"
   ]
  },
  {
   "cell_type": "code",
   "execution_count": 3,
   "metadata": {},
   "outputs": [
    {
     "name": "stdout",
     "output_type": "stream",
     "text": [
      "TSV file has been converted to CSV successfully.\n"
     ]
    }
   ],
   "source": [
    "import csv\n",
    "\n",
    "tsv_file_path = 'fam2supefamily.tsv'\n",
    "csv_file_path = 'fam2supefamily.csv'\n",
    "\n",
    "# Open the TSV file and the CSV file\n",
    "with open(tsv_file_path, 'r', newline='', encoding='utf-8') as tsv_file, \\\n",
    "     open(csv_file_path, 'w', newline='', encoding='utf-8') as csv_file:\n",
    "\n",
    "    # Create a CSV writer object\n",
    "    csv_writer = csv.writer(csv_file)\n",
    "\n",
    "    # Read the TSV file and write to the CSV file\n",
    "    for row in csv.reader(tsv_file, delimiter='\\t'):\n",
    "        csv_writer.writerow(row)\n",
    "\n",
    "print('TSV file has been converted to CSV successfully.')"
   ]
  },
  {
   "cell_type": "markdown",
   "metadata": {},
   "source": [
    "### Read Supefamily CSV File"
   ]
  },
  {
   "cell_type": "code",
   "execution_count": 4,
   "metadata": {},
   "outputs": [
    {
     "name": "stdout",
     "output_type": "stream",
     "text": [
      "   family                   label\n",
      "0  3.A.16  AAA-ATPase Superfamily\n",
      "1  3.A.20  AAA-ATPase Superfamily\n",
      "2  3.A.24  AAA-ATPase Superfamily\n",
      "3  3.A.25  AAA-ATPase Superfamily\n",
      "4  3.A.28  AAA-ATPase Superfamily\n"
     ]
    }
   ],
   "source": [
    "import pandas as pd\n",
    "\n",
    "# Read the CSV file\n",
    "df = pd.read_csv('fam2supefamily.csv')\n",
    "\n",
    "# Display the first few rows of the DataFrame\n",
    "print(df.head())\n"
   ]
  },
  {
   "cell_type": "code",
   "execution_count": null,
   "metadata": {},
   "outputs": [],
   "source": []
  }
 ],
 "metadata": {
  "kernelspec": {
   "display_name": "dlenv",
   "language": "python",
   "name": "python3"
  },
  "language_info": {
   "codemirror_mode": {
    "name": "ipython",
    "version": 3
   },
   "file_extension": ".py",
   "mimetype": "text/x-python",
   "name": "python",
   "nbconvert_exporter": "python",
   "pygments_lexer": "ipython3",
   "version": "3.13.3"
  }
 },
 "nbformat": 4,
 "nbformat_minor": 2
}
